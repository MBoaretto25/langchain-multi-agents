{
 "cells": [
  {
   "cell_type": "markdown",
   "metadata": {},
   "source": [
    "## Load Env Vars"
   ]
  },
  {
   "cell_type": "code",
   "execution_count": 1,
   "metadata": {},
   "outputs": [],
   "source": [
    "from dotenv import load_dotenv\n",
    "import os\n",
    "\n",
    "\n",
    "# Load the environment variables from the .env file\n",
    "load_dotenv()\n",
    "\n",
    "\n",
    "os.environ[\"LANGCHAIN_PROJECT\"] = \"Multi-Agents-Colab-Architecture\"\n"
   ]
  },
  {
   "cell_type": "markdown",
   "metadata": {},
   "source": [
    "## Create Agents"
   ]
  },
  {
   "cell_type": "code",
   "execution_count": 2,
   "metadata": {},
   "outputs": [],
   "source": [
    "from langchain_openai import AzureChatOpenAI\n",
    "\n",
    "from langchain_core.messages import (\n",
    "    BaseMessage,\n",
    "    HumanMessage,\n",
    ")\n",
    "from langchain_core.prompts import ChatPromptTemplate, MessagesPlaceholder\n",
    "\n",
    "from langgraph.graph import END, StateGraph, START\n",
    "\n",
    "\n",
    "def create_agent(llm, system_message: str):\n",
    "    \"\"\"Create an agent.\"\"\"\n",
    "    prompt = ChatPromptTemplate.from_messages(\n",
    "        [\n",
    "            (\n",
    "                \"system\",\n",
    "                \" You are a helpful AI assistant, collaborating with other assistants.\"\n",
    "                \" If you are unable to fully answer, that's OK, another assistant \"\n",
    "                \" will help where you left off. Execute what you can to make progress.\"\n",
    "                \" Remember to focus on your given task only, do not do another assistant work .\"\n",
    "                \" If you or any of the other assistants have the final answer or deliverable,\"\n",
    "                \" prefix your response with FINAL ANSWER so the team knows to stop.\"\n",
    "                \" \\n{system_message}\",\n",
    "            ),\n",
    "            MessagesPlaceholder(variable_name=\"messages\"),\n",
    "        ]\n",
    "    )\n",
    "    prompt = prompt.partial(system_message=system_message)\n",
    "    return prompt | llm\n"
   ]
  },
  {
   "cell_type": "markdown",
   "metadata": {},
   "source": [
    "## Define State Message"
   ]
  },
  {
   "cell_type": "code",
   "execution_count": 3,
   "metadata": {},
   "outputs": [],
   "source": [
    "import operator\n",
    "from typing import Annotated, Sequence, TypedDict, List\n",
    "\n",
    "\n",
    "class AgentState(TypedDict):\n",
    "    sender: str\n",
    "    messages: Annotated[Sequence[BaseMessage], operator.add]\n",
    "    "
   ]
  },
  {
   "cell_type": "markdown",
   "metadata": {},
   "source": [
    "## Define Agent Nodes\n"
   ]
  },
  {
   "cell_type": "code",
   "execution_count": 4,
   "metadata": {},
   "outputs": [],
   "source": [
    "import functools\n",
    "\n",
    "\n",
    "deployment_name = 'gpt-4o-mini'\n",
    "code_language = 'Python'\n",
    "\n",
    "\n",
    "def agent_node(state, agent, name):\n",
    "    result = agent.invoke(state)\n",
    "    return {\n",
    "        \"messages\": [result],\n",
    "        \"sender\": name,\n",
    "    }\n",
    "\n",
    "\n",
    "llm = AzureChatOpenAI(\n",
    "    azure_endpoint=os.environ[\"AZURE_OPENAI_ENDPOINT\"],\n",
    "    azure_deployment=deployment_name,\n",
    "    openai_api_version=os.environ[\"AZURE_OPENAI_API_VERSION\"],\n",
    ")\n",
    "\n",
    "\n",
    "# Test Scenarios Writer and Reviewer Agents\n",
    "test_scenario_writer_agent = create_agent(\n",
    "    llm=llm,\n",
    "    system_message=\"\"\"\n",
    "        You must provide a set of coherent and well defined test scenarios for another agent to write codes,\n",
    "        or improve existant test scenarions following given instructions.\n",
    "        You must not provide codes or other functions that are not you primary objective.\n",
    "    \"\"\" \n",
    ")\n",
    "ts_writer_node = functools.partial(agent_node, agent=test_scenario_writer_agent, name=\"ScenarioWriter\")\n",
    "\n",
    "test_scenario_reviewer_agent = create_agent(\n",
    "    llm,\n",
    "    system_message=\"\"\"\n",
    "        You must review a set of test scenarios, \n",
    "        and if the test scenarios needs enhancement you must prefix your response with REWRITE and provide instructions on how to improve. \n",
    "        You must not provide codes or other functions that are not you primary objective.\n",
    "    \"\"\",\n",
    ")\n",
    "ts_reviewer_node = functools.partial(agent_node, agent=test_scenario_reviewer_agent, name=\"ScenarioReviewer\")\n",
    "\n",
    "# Test Code Writer and Reviewer\n",
    "test_code_writer_agent = create_agent(\n",
    "    llm=llm,\n",
    "    system_message=f\"You must write {code_language} code for test scenarios\",\n",
    ")\n",
    "tc_writer_node = functools.partial(agent_node, agent=test_code_writer_agent, name=\"CodeWriter\")\n",
    "\n",
    "test_code_reviewer_agent = create_agent(\n",
    "    llm=llm,\n",
    "    system_message=f\"\"\"\n",
    "        You must review {code_language} code, \n",
    "        and if the code needs enhancement you must prefix your response with REWRITE and provide instructions on how to improve. \n",
    "        You must not provide codes or other functions that are not you primary objective.\n",
    "    \"\"\",\n",
    ")\n",
    "tc_reviewer_node = functools.partial(agent_node, agent=test_code_reviewer_agent, name=\"CodeReviewer\")"
   ]
  },
  {
   "cell_type": "markdown",
   "metadata": {},
   "source": [
    "## Define Edge Logic"
   ]
  },
  {
   "cell_type": "code",
   "execution_count": 5,
   "metadata": {},
   "outputs": [],
   "source": [
    "from typing import Literal\n",
    "\n",
    "\n",
    "def router(state) -> Literal[\"__end__\", \"continue\", \"rewrite\"]:\n",
    "    # This is the router\n",
    "    messages = state[\"messages\"]\n",
    "    last_message = messages[-1]\n",
    "    if \"REWRITE\" in last_message.content:\n",
    "        return \"rewrite\"\n",
    "    if \"FINAL ANSWER\" in last_message.content:\n",
    "        # Any agent decided the work is done\n",
    "        return \"__end__\"\n",
    "    return \"continue\""
   ]
  },
  {
   "cell_type": "markdown",
   "metadata": {},
   "source": [
    "## Define the Graph"
   ]
  },
  {
   "cell_type": "code",
   "execution_count": 6,
   "metadata": {},
   "outputs": [],
   "source": [
    "# Create Workflow\n",
    "workflow = StateGraph(AgentState)\n",
    "\n",
    "workflow.add_node(\"ScenarioWriter\", ts_writer_node)\n",
    "workflow.add_node(\"ScenarioReviewer\", ts_reviewer_node)\n",
    "workflow.add_node(\"CodeWriter\", tc_writer_node)\n",
    "workflow.add_node(\"CodeReviewer\", tc_reviewer_node)\n",
    "\n",
    "workflow.add_conditional_edges(\n",
    "    \"ScenarioWriter\",\n",
    "    router,\n",
    "    {\n",
    "        \"continue\": \"ScenarioReviewer\", \n",
    "        \"__end__\": END\n",
    "    },\n",
    ")\n",
    "\n",
    "workflow.add_conditional_edges(\n",
    "    \"ScenarioReviewer\",\n",
    "    router,\n",
    "    {\n",
    "        \"continue\": \"CodeWriter\", \n",
    "        \"rewrite\": \"ScenarioWriter\", \n",
    "        \"__end__\": \"CodeWriter\"\n",
    "    },\n",
    ")\n",
    "\n",
    "workflow.add_conditional_edges(\n",
    "    \"CodeWriter\",\n",
    "    router,\n",
    "    {\n",
    "        \"continue\": \"CodeReviewer\",\n",
    "        \"__end__\": END\n",
    "    },\n",
    ")\n",
    "\n",
    "workflow.add_conditional_edges(\n",
    "    \"CodeReviewer\",\n",
    "    router,\n",
    "    {\n",
    "        \"continue\": \"ScenarioWriter\", \n",
    "        \"rewrite\": \"CodeWriter\", \n",
    "        \"__end__\": END\n",
    "    },\n",
    ")\n",
    "\n",
    "\n",
    "workflow.add_edge(START, \"ScenarioWriter\")\n",
    "graph = workflow.compile()"
   ]
  },
  {
   "cell_type": "code",
   "execution_count": null,
   "metadata": {},
   "outputs": [],
   "source": [
    "from IPython.display import Image, display\n",
    "\n",
    "\n",
    "try:\n",
    "    display(Image(graph.get_graph(xray=True).draw_mermaid_png()))\n",
    "except Exception:\n",
    "    # This requires some extra dependencies and is optional\n",
    "    pass"
   ]
  },
  {
   "cell_type": "code",
   "execution_count": 8,
   "metadata": {},
   "outputs": [],
   "source": [
    "objective = \"\"\"\n",
    "    As a user, I want to securely log in to the application using my email and password, so I can access my personalized dashboard and features. \n",
    "    The system should also support role-based access control to restrict access to specific areas of the application based on user roles (e.g., admin, user, guest).\"\n",
    "\"\"\"\n",
    "\n",
    "events = graph.stream(\n",
    "    {\n",
    "        \"messages\": [\n",
    "            HumanMessage(\n",
    "                content=f\" I would like for you to write 3 test scenarios, for this this objective : {objective}\"\n",
    "                f\" for each test scenario I would like a {code_language} code script.\"\n",
    "                \" Once you code it up, finish.\"\n",
    "            )\n",
    "        ],\n",
    "    },\n",
    "    # Maximum number of steps to take in the graph\n",
    "    {\"recursion_limit\": 150},\n",
    ")\n"
   ]
  },
  {
   "cell_type": "code",
   "execution_count": null,
   "metadata": {},
   "outputs": [],
   "source": [
    "for s in events:\n",
    "    print(\"#\"*50)\n",
    "    for k,v  in s.items():\n",
    "        print(f\"{k} : \\n\", s[k]['messages'][-1].content)\n",
    "    print()"
   ]
  }
 ],
 "metadata": {
  "kernelspec": {
   "display_name": "multi-agents",
   "language": "python",
   "name": "python3"
  },
  "language_info": {
   "codemirror_mode": {
    "name": "ipython",
    "version": 3
   },
   "file_extension": ".py",
   "mimetype": "text/x-python",
   "name": "python",
   "nbconvert_exporter": "python",
   "pygments_lexer": "ipython3",
   "version": "3.10.14"
  }
 },
 "nbformat": 4,
 "nbformat_minor": 2
}
