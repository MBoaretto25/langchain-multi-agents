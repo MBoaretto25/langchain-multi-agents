{
 "cells": [
  {
   "cell_type": "markdown",
   "metadata": {},
   "source": [
    "## Load Env Vars"
   ]
  },
  {
   "cell_type": "code",
   "execution_count": 1,
   "metadata": {},
   "outputs": [],
   "source": [
    "from dotenv import load_dotenv\n",
    "import os\n",
    "\n",
    "\n",
    "# Load the environment variables from the .env file\n",
    "load_dotenv()\n",
    "\n",
    "\n",
    "os.environ[\"LANGCHAIN_PROJECT\"] = \"Multi-Agents-Supervisor-Architecture\"\n"
   ]
  },
  {
   "cell_type": "markdown",
   "metadata": {},
   "source": [
    "## Helper Utilities"
   ]
  },
  {
   "cell_type": "code",
   "execution_count": 2,
   "metadata": {},
   "outputs": [],
   "source": [
    "from typing import Annotated\n",
    "from langchain_core.messages import BaseMessage, HumanMessage\n",
    "from langchain_core.prompts import ChatPromptTemplate, MessagesPlaceholder\n",
    "from langchain_openai import AzureChatOpenAI\n",
    "\n",
    "\n",
    "def create_agent(llm: AzureChatOpenAI, system_prompt: str):\n",
    "    \n",
    "    prompt = ChatPromptTemplate.from_messages(\n",
    "        [\n",
    "            (\n",
    "                \"system\",\n",
    "                system_prompt,\n",
    "            ),\n",
    "            MessagesPlaceholder(variable_name=\"messages\"),\n",
    "        ]\n",
    "    )\n",
    "    return prompt | llm\n"
   ]
  },
  {
   "cell_type": "code",
   "execution_count": 3,
   "metadata": {},
   "outputs": [],
   "source": [
    "def agent_node(state, agent, name):\n",
    "    \n",
    "    result = agent.invoke(state)\n",
    "    \n",
    "    if name == \"Publisher\":\n",
    "        return {\n",
    "            \"messages\": [HumanMessage(content=result.content, name=name)],\n",
    "            \"final_result\": result.content\n",
    "        }\n",
    "    return {\n",
    "        \"messages\": [HumanMessage(content=result.content, name=name)]\n",
    "    }"
   ]
  },
  {
   "cell_type": "markdown",
   "metadata": {},
   "source": [
    "### Create Agent Supervisor\n"
   ]
  },
  {
   "cell_type": "code",
   "execution_count": 4,
   "metadata": {},
   "outputs": [],
   "source": [
    "from langchain_core.output_parsers.openai_functions import JsonOutputFunctionsParser\n",
    "from langchain_core.prompts import ChatPromptTemplate, MessagesPlaceholder\n",
    "\n",
    "\n",
    "deployment_name = 'gpt-4o-mini'\n",
    "\n",
    "\n",
    "members = [\"TestWriter\", \"TestReviewer\", \"CodeWriter\", \"CodeReviewer\", \"Publisher\"]\n",
    "\n",
    "system_prompt = (\n",
    "    \" You are a supervisor, you are asked to manage a conversation between the\"\n",
    "    \" following workers:  {members}. Given the following user request,\"\n",
    "    \" respond with the worker to act next.\"\n",
    "    \" Every work done must be reviewed by its respective prefix, if any.\"\n",
    "    \" Each worker will perform a task and respond with their results and status.\"\n",
    "    \" Before finishing, publish the answer and after that respond with FINISH.\"\n",
    ")\n",
    "\n",
    "options = [\"FINISH\"] + members\n",
    "\n",
    "function_def = {\n",
    "    \"name\": \"route\",\n",
    "    \"description\": \"Select the next role.\",\n",
    "    \"parameters\": {\n",
    "        \"title\": \"routeSchema\",\n",
    "        \"type\": \"object\",\n",
    "        \"properties\": {\n",
    "            \"next\": {\n",
    "                \"title\": \"Next\",\n",
    "                \"anyOf\": [\n",
    "                    {\"enum\": options},\n",
    "                ],\n",
    "            }\n",
    "        },\n",
    "        \"required\": [\"next\"],\n",
    "    },\n",
    "}\n",
    "\n",
    "prompt = ChatPromptTemplate.from_messages(\n",
    "    [\n",
    "        (\"system\", system_prompt),\n",
    "        MessagesPlaceholder(variable_name=\"messages\"),\n",
    "        (\n",
    "            \"system\",\n",
    "            \" Given the conversation above, who should act next?\"\n",
    "            \" Or should we FINISH? Select one of: {options}\",\n",
    "        ),\n",
    "    ]\n",
    ").partial(options=str(options), members=\", \".join(members))\n",
    "\n",
    "\n",
    "llm = AzureChatOpenAI(\n",
    "    azure_endpoint=os.environ[\"AZURE_OPENAI_ENDPOINT\"],\n",
    "    azure_deployment=deployment_name,\n",
    "    openai_api_version=os.environ[\"AZURE_OPENAI_API_VERSION\"],\n",
    ")\n",
    "\n",
    "supervisor_chain = (\n",
    "    prompt\n",
    "    | llm.bind_functions(functions=[function_def], function_call=\"route\")\n",
    "    | JsonOutputFunctionsParser()\n",
    ")"
   ]
  },
  {
   "cell_type": "markdown",
   "metadata": {},
   "source": [
    "### Construct Graph\n"
   ]
  },
  {
   "cell_type": "code",
   "execution_count": null,
   "metadata": {},
   "outputs": [],
   "source": [
    "import functools\n",
    "import operator\n",
    "from typing import Sequence, TypedDict\n",
    "\n",
    "from langgraph.graph import END, StateGraph, START\n",
    "\n",
    "\n",
    "code_language = \"Python\"\n",
    "\n",
    "class AgentState(TypedDict):\n",
    "    messages: Annotated[Sequence[BaseMessage], operator.add]\n",
    "    next: str\n",
    "    final_result: str\n",
    "\n",
    "\n",
    "test_scenario_writer_agent = create_agent(llm, \n",
    "                                            \"\"\"\n",
    "                                            You must provide a set of coherent and well defined test scenarios for another agent to write codes,\n",
    "                                            or if is the case, improve existant test scenarios following given instructions.\n",
    "                                            You must not provide codes or other functions that are not you primary objective.\n",
    "                                            \"\"\"\n",
    "                                        )\n",
    "\n",
    "test_scenario_reviewer_agent = create_agent(llm, \n",
    "                                            \"\"\"\n",
    "                                            You must review a set of test scenarios, \n",
    "                                            and if the test scenarios needs enhancement you must provide instructions on how to improve. \n",
    "                                            You must not provide codes or other functions that are not you primary objective.\n",
    "                                            \"\"\"\n",
    "                                        )\n",
    "\n",
    "\n",
    "test_code_writer_agent = create_agent(llm, f\"\"\"You must write {code_language} code for test scenarios\"\"\")\n",
    "\n",
    "test_code_reviewer_agent = create_agent(llm, \n",
    "                                        \"\"\"\n",
    "                                        You must review {code_language} code, \n",
    "                                        and if the code needs enhancement you must provide instructions on how to improve. \n",
    "                                        You must not provide codes or other functions that are not you primary objective.\n",
    "                                        \"\"\"\n",
    "                                    )\n",
    "\n",
    "publisher_agent = create_agent(llm, \n",
    "                                \"\"\"\n",
    "                                You must format the final response in markdown for the user. \n",
    "                                The response must have the final version of the test scenarios and the final version of the code.\n",
    "                                \"\"\"\n",
    "                                )\n",
    "\n",
    "test_scenario_writer_node = functools.partial(agent_node, agent=test_scenario_writer_agent, name=\"TestWriter\")\n",
    "test_scenario_reviewer_node = functools.partial(agent_node, agent=test_scenario_reviewer_agent, name=\"TestReviewer\")\n",
    "test_code_writer_node = functools.partial(agent_node, agent=test_code_writer_agent, name=\"CodeWriter\")\n",
    "test_code_reviewer_node = functools.partial(agent_node, agent=test_code_reviewer_agent, name=\"CodeReviewer\")\n",
    "publisher_node = functools.partial(agent_node, agent=publisher_agent, name=\"Publisher\")\n",
    "\n",
    "\n",
    "workflow = StateGraph(AgentState)\n",
    "workflow.add_node(\"TestWriter\", test_scenario_writer_node)\n",
    "workflow.add_node(\"TestReviewer\", test_scenario_reviewer_node)\n",
    "workflow.add_node(\"CodeWriter\", test_code_writer_node)\n",
    "workflow.add_node(\"CodeReviewer\", test_code_reviewer_node)\n",
    "workflow.add_node(\"Publisher\", publisher_node)\n",
    "workflow.add_node(\"supervisor\", supervisor_chain)\n"
   ]
  },
  {
   "cell_type": "code",
   "execution_count": 6,
   "metadata": {},
   "outputs": [],
   "source": [
    "for member in members:\n",
    "    workflow.add_edge(member, \"supervisor\")\n",
    "\n",
    "conditional_map = {k: k for k in members}\n",
    "conditional_map[\"FINISH\"] = END\n",
    "workflow.add_conditional_edges(\"supervisor\", lambda x: x[\"next\"], conditional_map)\n",
    "\n",
    "workflow.add_edge(START, \"supervisor\")\n",
    "\n",
    "graph = workflow.compile()"
   ]
  },
  {
   "cell_type": "code",
   "execution_count": null,
   "metadata": {},
   "outputs": [],
   "source": [
    "for k,v in conditional_map.items():\n",
    "    print(f\"{k} -> {v}\")"
   ]
  },
  {
   "cell_type": "code",
   "execution_count": null,
   "metadata": {},
   "outputs": [],
   "source": [
    "from IPython.display import Image, display\n",
    "\n",
    "try:\n",
    "    display(Image(graph.get_graph(xray=True).draw_mermaid_png()))\n",
    "except Exception:\n",
    "    pass"
   ]
  },
  {
   "cell_type": "code",
   "execution_count": null,
   "metadata": {},
   "outputs": [],
   "source": [
    "objective = \"\"\"\n",
    "    As a user, I want to securely log in to the application using my email and password, so I can access my personalized dashboard and features. \n",
    "    The system should also support role-based access control to restrict access to specific areas of the application based on user roles (e.g., admin, user, guest).\n",
    "\"\"\"\n",
    "\n",
    "final_result = \"\"\n",
    "\n",
    "for s in graph.stream(\n",
    "    {\n",
    "        \"messages\": [\n",
    "            HumanMessage(\n",
    "                content=f\" I would like for you to write 3 test scenarios, for this this objective : {objective}\"\n",
    "                f\" for each test scenario I would like a {code_language} code script.\"\n",
    "                \" Once you code it up, finish.\"\n",
    "            )\n",
    "        ]\n",
    "    }\n",
    "):\n",
    "    if \"__end__\" not in s:\n",
    "        print(\"#\"*50)\n",
    "        for k, v in s.items():\n",
    "            print(f\"{k} : \\n\")\n",
    "            if \"messages\" in v: \n",
    "                print(\" - messages :\", v.get(\"messages\")[-1].content)\n",
    "            if \"next\" in v: \n",
    "                print(\" - next : \", v.get(\"next\"))\n",
    "            if \"final_result\" in v:\n",
    "                final_result = v.get(\"final_result\")\n",
    "        print()"
   ]
  },
  {
   "cell_type": "markdown",
   "metadata": {},
   "source": [
    "## Display Final Results of the Publisher"
   ]
  },
  {
   "cell_type": "code",
   "execution_count": null,
   "metadata": {},
   "outputs": [],
   "source": [
    "print(final_result)"
   ]
  }
 ],
 "metadata": {
  "kernelspec": {
   "display_name": "multi-agents",
   "language": "python",
   "name": "python3"
  },
  "language_info": {
   "codemirror_mode": {
    "name": "ipython",
    "version": 3
   },
   "file_extension": ".py",
   "mimetype": "text/x-python",
   "name": "python",
   "nbconvert_exporter": "python",
   "pygments_lexer": "ipython3",
   "version": "3.10.14"
  }
 },
 "nbformat": 4,
 "nbformat_minor": 2
}
